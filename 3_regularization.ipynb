{
 "cells": [
  {
   "cell_type": "markdown",
   "metadata": {
    "colab_type": "text",
    "id": "kR-4eNdK6lYS"
   },
   "source": [
    "Deep Learning\n",
    "=============\n",
    "\n",
    "Assignment 3\n",
    "------------\n",
    "\n",
    "Previously in `2_fullyconnected.ipynb`, you trained a logistic regression and a neural network model.\n",
    "\n",
    "The goal of this assignment is to explore regularization techniques."
   ]
  },
  {
   "cell_type": "code",
   "execution_count": 11,
   "metadata": {
    "cellView": "both",
    "colab": {
     "autoexec": {
      "startup": false,
      "wait_interval": 0
     }
    },
    "colab_type": "code",
    "id": "JLpLa8Jt7Vu4"
   },
   "outputs": [],
   "source": [
    "# These are all the modules we'll be using later. Make sure you can import them\n",
    "# before proceeding further.\n",
    "from __future__ import print_function\n",
    "import numpy as np\n",
    "import tensorflow as tf\n",
    "from six.moves import cPickle as pickle\n",
    "import matplotlib.pyplot as plt\n",
    "\n",
    "%matplotlib inline"
   ]
  },
  {
   "cell_type": "markdown",
   "metadata": {
    "colab_type": "text",
    "id": "1HrCK6e17WzV"
   },
   "source": [
    "First reload the data we generated in `1_notmnist.ipynb`."
   ]
  },
  {
   "cell_type": "code",
   "execution_count": 2,
   "metadata": {
    "cellView": "both",
    "colab": {
     "autoexec": {
      "startup": false,
      "wait_interval": 0
     },
     "output_extras": [
      {
       "item_id": 1
      }
     ]
    },
    "colab_type": "code",
    "executionInfo": {
     "elapsed": 11777,
     "status": "ok",
     "timestamp": 1449849322348,
     "user": {
      "color": "",
      "displayName": "",
      "isAnonymous": false,
      "isMe": true,
      "permissionId": "",
      "photoUrl": "",
      "sessionId": "0",
      "userId": ""
     },
     "user_tz": 480
    },
    "id": "y3-cj1bpmuxc",
    "outputId": "e03576f1-ebbe-4838-c388-f1777bcc9873"
   },
   "outputs": [
    {
     "name": "stdout",
     "output_type": "stream",
     "text": [
      "Training set (200000, 28, 28) (200000,)\n",
      "Validation set (10000, 28, 28) (10000,)\n",
      "Test set (10000, 28, 28) (10000,)\n"
     ]
    }
   ],
   "source": [
    "pickle_file = 'notMNIST.pickle'\n",
    "\n",
    "with open(pickle_file, 'rb') as f:\n",
    "  save = pickle.load(f)\n",
    "  train_dataset = save['train_dataset']\n",
    "  train_labels = save['train_labels']\n",
    "  valid_dataset = save['valid_dataset']\n",
    "  valid_labels = save['valid_labels']\n",
    "  test_dataset = save['test_dataset']\n",
    "  test_labels = save['test_labels']\n",
    "  del save  # hint to help gc free up memory\n",
    "  print('Training set', train_dataset.shape, train_labels.shape)\n",
    "  print('Validation set', valid_dataset.shape, valid_labels.shape)\n",
    "  print('Test set', test_dataset.shape, test_labels.shape)"
   ]
  },
  {
   "cell_type": "markdown",
   "metadata": {
    "colab_type": "text",
    "id": "L7aHrm6nGDMB"
   },
   "source": [
    "Reformat into a shape that's more adapted to the models we're going to train:\n",
    "- data as a flat matrix,\n",
    "- labels as float 1-hot encodings."
   ]
  },
  {
   "cell_type": "code",
   "execution_count": 3,
   "metadata": {
    "cellView": "both",
    "colab": {
     "autoexec": {
      "startup": false,
      "wait_interval": 0
     },
     "output_extras": [
      {
       "item_id": 1
      }
     ]
    },
    "colab_type": "code",
    "executionInfo": {
     "elapsed": 11728,
     "status": "ok",
     "timestamp": 1449849322356,
     "user": {
      "color": "",
      "displayName": "",
      "isAnonymous": false,
      "isMe": true,
      "permissionId": "",
      "photoUrl": "",
      "sessionId": "0",
      "userId": ""
     },
     "user_tz": 480
    },
    "id": "IRSyYiIIGIzS",
    "outputId": "3f8996ee-3574-4f44-c953-5c8a04636582"
   },
   "outputs": [
    {
     "name": "stdout",
     "output_type": "stream",
     "text": [
      "Training set (200000, 784) (200000, 10)\n",
      "Validation set (10000, 784) (10000, 10)\n",
      "Test set (10000, 784) (10000, 10)\n"
     ]
    }
   ],
   "source": [
    "image_size = 28\n",
    "num_labels = 10\n",
    "\n",
    "def reformat(dataset, labels):\n",
    "  dataset = dataset.reshape((-1, image_size * image_size)).astype(np.float32)\n",
    "  # Map 1 to [0.0, 1.0, 0.0 ...], 2 to [0.0, 0.0, 1.0 ...]\n",
    "  labels = (np.arange(num_labels) == labels[:,None]).astype(np.float32)\n",
    "  return dataset, labels\n",
    "train_dataset, train_labels = reformat(train_dataset, train_labels)\n",
    "valid_dataset, valid_labels = reformat(valid_dataset, valid_labels)\n",
    "test_dataset, test_labels = reformat(test_dataset, test_labels)\n",
    "print('Training set', train_dataset.shape, train_labels.shape)\n",
    "print('Validation set', valid_dataset.shape, valid_labels.shape)\n",
    "print('Test set', test_dataset.shape, test_labels.shape)"
   ]
  },
  {
   "cell_type": "code",
   "execution_count": 4,
   "metadata": {
    "cellView": "both",
    "colab": {
     "autoexec": {
      "startup": false,
      "wait_interval": 0
     }
    },
    "colab_type": "code",
    "collapsed": true,
    "id": "RajPLaL_ZW6w"
   },
   "outputs": [],
   "source": [
    "def accuracy(predictions, labels):\n",
    "  return (100.0 * np.sum(np.argmax(predictions, 1) == np.argmax(labels, 1))\n",
    "          / predictions.shape[0])"
   ]
  },
  {
   "cell_type": "markdown",
   "metadata": {
    "colab_type": "text",
    "id": "sgLbUAQ1CW-1"
   },
   "source": [
    "---\n",
    "Problem 1\n",
    "---------\n",
    "\n",
    "Introduce and tune L2 regularization for both logistic and neural network models. Remember that L2 amounts to adding a penalty on the norm of the weights to the loss. In TensorFlow, you can compute the L2 loss for a tensor `t` using `nn.l2_loss(t)`. The right amount of regularization should improve your validation / test accuracy.\n",
    "\n",
    "---"
   ]
  },
  {
   "cell_type": "code",
   "execution_count": 41,
   "metadata": {},
   "outputs": [
    {
     "data": {
      "text/plain": [
       "array([ 66007,  60420,  26951, ..., 154356, 102032, 195909])"
      ]
     },
     "execution_count": 41,
     "metadata": {},
     "output_type": "execute_result"
    }
   ],
   "source": [
    "sel = np.floor(np.random.rand(2 * batch_size) * len(train_dataset)).astype(int)\n",
    "sel"
   ]
  },
  {
   "cell_type": "code",
   "execution_count": 51,
   "metadata": {},
   "outputs": [],
   "source": [
    "hidden_layer_size=1024\n",
    "batch_size = 2000\n",
    "\n",
    "graph = tf.Graph()\n",
    "with graph.as_default():\n",
    "\n",
    "    # Input data. For the training data, we use a placeholder that will be fed\n",
    "    # at run time with a training minibatch.\n",
    "    tf_train_dataset = tf.placeholder(tf.float32,\n",
    "                                    shape=(batch_size, image_size * image_size))\n",
    "    tf_train_labels = tf.placeholder(tf.float32, shape=(batch_size, num_labels))\n",
    "    tf_lambda = tf.placeholder(tf.float32)\n",
    "    tf_full_train_dataset = tf.placeholder(tf.float32, shape=(None, image_size * image_size))\n",
    "    tf_valid_dataset = tf.constant(valid_dataset)\n",
    "    tf_test_dataset = tf.constant(test_dataset)\n",
    "\n",
    "    # Variables.\n",
    "    W1 = tf.Variable(\n",
    "        tf.truncated_normal([image_size * image_size, hidden_layer_size]))\n",
    "    b1 = tf.Variable(tf.zeros([hidden_layer_size]))\n",
    "    W2 = tf.Variable(\n",
    "        tf.truncated_normal([hidden_layer_size, num_labels]))\n",
    "    b2 = tf.Variable(tf.zeros([num_labels]))\n",
    "\n",
    "    # Training computation.\n",
    "    a1 = tf.nn.relu(tf.matmul(tf_train_dataset, W1) + b1)\n",
    "    logits = tf.matmul(a1, W2) + b2\n",
    "    \n",
    "    loss = tf.reduce_mean(\n",
    "        tf.nn.softmax_cross_entropy_with_logits(labels=tf_train_labels, logits=logits))\n",
    "    loss += tf_lambda * (tf.nn.l2_loss(W1) + tf.nn.l2_loss(W2))\n",
    "\n",
    "    # Optimizer.\n",
    "    optimizer = tf.train.GradientDescentOptimizer(0.5).minimize(loss)\n",
    "\n",
    "    # Predictions for the training, validation, and test data.\n",
    "    mini_train_prediction = tf.nn.softmax(logits)\n",
    "    train_prediction = tf.nn.softmax(tf.matmul(tf.nn.relu(tf.matmul(tf_full_train_dataset, W1) + b1), W2) + b2)\n",
    "    valid_prediction = tf.nn.softmax(tf.matmul(tf.nn.relu(tf.matmul(tf_valid_dataset, W1) + b1), W2) + b2)\n",
    "    test_prediction = tf.nn.softmax(tf.matmul(tf.nn.relu(tf.matmul(tf_test_dataset, W1) + b1), W2) + b2)"
   ]
  },
  {
   "cell_type": "code",
   "execution_count": 87,
   "metadata": {},
   "outputs": [
    {
     "data": {
      "text/plain": [
       "<matplotlib.text.Text at 0x26102050358>"
      ]
     },
     "execution_count": 87,
     "metadata": {},
     "output_type": "execute_result"
    },
    {
     "data": {
      "image/png": "[encoded data removed]",
      "text/plain": [
       "<matplotlib.figure.Figure at 0x263b6c32b70>"
      ]
     },
     "metadata": {},
     "output_type": "display_data"
    }
   ],
   "source": [
    "lambdas = [0, 0.0001, 0.0003, 0.001, 0.003, 0.01, 0.03]\n",
    "num_steps = 3001\n",
    "\n",
    "error_trains = np.zeros(len(lambdas))\n",
    "error_vals = np.zeros(len(lambdas))\n",
    "\n",
    "for i, lambda_t in enumerate(lambdas) :\n",
    "\n",
    "    with tf.Session(graph=graph) as session:\n",
    "        tf.global_variables_initializer().run()\n",
    "        #print(\"Initialized\")\n",
    "        for step in range(num_steps):\n",
    "            # Pick an offset within the training data, which has been randomized.\n",
    "            # Note: we could use better randomization across epochs.\n",
    "            offset = (step * batch_size) % (train_dataset.shape[0] - batch_size)\n",
    "                \n",
    "            # Generate a minibatch.\n",
    "            batch_data = train_dataset[offset:(offset + batch_size), :]\n",
    "            batch_labels = train_labels[offset:(offset + batch_size), :]\n",
    "            # Prepare a dictionary telling the session where to feed the minibatch.\n",
    "            # The key of the dictionary is the placeholder node of the graph to be fed,\n",
    "            # and the value is the numpy array to feed to it.\n",
    "            feed_dict = {tf_train_dataset : batch_data, tf_train_labels : batch_labels, tf_lambda : lambda_t}\n",
    "            _, l, predictions = session.run([optimizer, loss, mini_train_prediction], feed_dict=feed_dict)\n",
    "            #if (step % 500 == 0):\n",
    "            #    print(\"Minibatch loss at step %d: %f\" % (step, l))\n",
    "            #    print(\"Minibatch accuracy: %.1f%%\" % accuracy(predictions, batch_labels))\n",
    "            #    print(\"Validation accuracy: %.1f%%\" % accuracy(\n",
    "            #        valid_prediction.eval(), valid_labels))\n",
    "        #print(\"Test accuracy: %.1f%%\" % accuracy(test_prediction.eval(), test_labels))\n",
    "        #print(\"Train accuracy: %.1f%%\" % accuracy(train_prediction.eval({tf_full_train_dataset: train_dataset_sel}), train_labels_sel))\n",
    "        #print(\"Cross validation accuracy: %.1f%%\" % accuracy(valid_prediction.eval(), valid_labels))\n",
    "        error_trains[i] = 100-accuracy(train_prediction.eval({tf_full_train_dataset: train_dataset_sel}), train_labels_sel)\n",
    "        error_vals[i] = 100-accuracy(valid_prediction.eval(), valid_labels)\n",
    "    \n",
    "plt.figure()\n",
    "plt.plot(lambdas, error_trains, 'rx-', label='Train', )\n",
    "plt.plot(lambdas, error_vals, 'bx-', label='Cross Validation')\n",
    "plt.legend()\n",
    "plt.title('Validation curve') \n",
    "plt.xlabel('Lambda')\n",
    "plt.ylabel('Error')"
   ]
  },
  {
   "cell_type": "markdown",
   "metadata": {
    "colab_type": "text",
    "id": "na8xX2yHZzNF"
   },
   "source": [
    "---\n",
    "Problem 2\n",
    "---------\n",
    "Let's demonstrate an extreme case of overfitting. Restrict your training data to just a few batches. What happens?\n",
    "\n",
    "---"
   ]
  },
  {
   "cell_type": "code",
   "execution_count": 93,
   "metadata": {
    "scrolled": false
   },
   "outputs": [
    {
     "name": "stdout",
     "output_type": "stream",
     "text": [
      "Training neural network with 2000 training sample\n",
      "Test accuracy: 86.1%\n",
      "Training neural network with 10000 training sample\n",
      "Test accuracy: 88.0%\n",
      "Training neural network with 20000 training sample\n",
      "Test accuracy: 89.7%\n",
      "Training neural network with 100000 training sample\n",
      "Test accuracy: 93.0%\n",
      "Training neural network with 200000 training sample\n",
      "Test accuracy: 93.6%\n"
     ]
    },
    {
     "data": {
      "text/plain": [
       "<matplotlib.text.Text at 0x263b5e69a90>"
      ]
     },
     "execution_count": 93,
     "metadata": {},
     "output_type": "execute_result"
    },
    {
     "data": {
      "image/png": "[encoded data removed]",
      "text/plain": [
       "<matplotlib.figure.Figure at 0x263b63ec4e0>"
      ]
     },
     "metadata": {},
     "output_type": "display_data"
    }
   ],
   "source": [
    "lambda_t = 0.001\n",
    "num_batches = [1, 5, 10, 50, 100]\n",
    "\n",
    "error_trains = np.zeros(len(num_batches))\n",
    "error_vals = np.zeros(len(num_batches))\n",
    "\n",
    "num_steps = 3001\n",
    "\n",
    "for j, num_batch in enumerate(num_batches):\n",
    "    \n",
    "    #Randomly select training set\n",
    "    print(\"Training neural network with %d training sample\" % (num_batch * batch_size))\n",
    "    sel = np.floor(np.random.rand(num_batch * batch_size) * len(train_dataset)).astype(int)\n",
    "\n",
    "    train_dataset_sel = train_dataset[sel, :]\n",
    "    train_labels_sel = train_labels[sel, :]\n",
    "\n",
    "    with tf.Session(graph=graph) as session:\n",
    "        tf.global_variables_initializer().run()\n",
    "        #print(\"Initialized\")\n",
    "        for step in range(num_steps):\n",
    "            # Pick an offset within the training data, which has been randomized.\n",
    "            # Note: we could use better randomization across epochs.\n",
    "            if(train_dataset_sel.shape[0] - batch_size != 0):\n",
    "                offset = (step * batch_size) % (train_dataset_sel.shape[0] - batch_size)\n",
    "            else:\n",
    "                offset = 0\n",
    "            # Generate a minibatch.\n",
    "            batch_data = train_dataset_sel[offset:(offset + batch_size), :]\n",
    "            batch_labels = train_labels_sel[offset:(offset + batch_size), :]\n",
    "            # Prepare a dictionary telling the session where to feed the minibatch.\n",
    "            # The key of the dictionary is the placeholder node of the graph to be fed,\n",
    "            # and the value is the numpy array to feed to it.\n",
    "            feed_dict = {tf_train_dataset : batch_data, tf_train_labels : batch_labels, tf_lambda : lambda_t}\n",
    "            _, l, predictions = session.run([optimizer, loss, mini_train_prediction], feed_dict=feed_dict)\n",
    "            #if (step % 500 == 0):\n",
    "            #    print(\"Minibatch loss at step %d: %f\" % (step, l))\n",
    "            #    print(\"Minibatch accuracy: %.1f%%\" % accuracy(predictions, batch_labels))\n",
    "            #    print(\"Validation accuracy: %.1f%%\" % accuracy(\n",
    "            #        valid_prediction.eval(), valid_labels))\n",
    "        print(\"Test accuracy: %.1f%%\" % accuracy(test_prediction.eval(), test_labels))\n",
    "        #print(\"Train accuracy: %.1f%%\" % accuracy(train_prediction.eval({tf_full_train_dataset: train_dataset_sel}), train_labels_sel))\n",
    "        #print(\"Cross validation accuracy: %.1f%%\" % accuracy(valid_prediction.eval(), valid_labels))\n",
    "        error_trains[j] = 100-accuracy(train_prediction.eval({tf_full_train_dataset: train_dataset_sel}), train_labels_sel)\n",
    "        error_vals[j] = 100-accuracy(valid_prediction.eval(), valid_labels)\n",
    "\n",
    "plt.figure()\n",
    "plt.plot(num_batches, error_trains, 'rx-', label='Train', )\n",
    "plt.plot(num_batches, error_vals, 'bx-', label='Cross Validation')\n",
    "plt.legend()\n",
    "plt.title('Polynomial Regression (lambda = %f)' % lambda_t) \n",
    "plt.xlabel('Number of training batches')\n",
    "plt.ylabel('Error')"
   ]
  },
  {
   "cell_type": "markdown",
   "metadata": {
    "colab_type": "text",
    "id": "ww3SCBUdlkRc"
   },
   "source": [
    "---\n",
    "Problem 3\n",
    "---------\n",
    "Introduce Dropout on the hidden layer of the neural network. Remember: Dropout should only be introduced during training, not evaluation, otherwise your evaluation results would be stochastic as well. TensorFlow provides `nn.dropout()` for that, but you have to make sure it's only inserted during training.\n",
    "\n",
    "What happens to our extreme overfitting case?\n",
    "\n",
    "---"
   ]
  },
  {
   "cell_type": "code",
   "execution_count": 94,
   "metadata": {
    "collapsed": true
   },
   "outputs": [],
   "source": [
    "hidden_layer_size=1024\n",
    "batch_size = 2000\n",
    "dropout = 0.5\n",
    "\n",
    "graph_dropout = tf.Graph()\n",
    "with graph_dropout.as_default():\n",
    "\n",
    "    # Input data. For the training data, we use a placeholder that will be fed\n",
    "    # at run time with a training minibatch.\n",
    "    tf_train_dataset = tf.placeholder(tf.float32,\n",
    "                                    shape=(batch_size, image_size * image_size))\n",
    "    tf_train_labels = tf.placeholder(tf.float32, shape=(batch_size, num_labels))\n",
    "    tf_lambda = tf.placeholder(tf.float32)\n",
    "    tf_full_train_dataset = tf.placeholder(tf.float32, shape=(None, image_size * image_size))\n",
    "    tf_valid_dataset = tf.constant(valid_dataset)\n",
    "    tf_test_dataset = tf.constant(test_dataset)\n",
    "\n",
    "    # Variables.\n",
    "    W1 = tf.Variable(\n",
    "        tf.truncated_normal([image_size * image_size, hidden_layer_size]))\n",
    "    b1 = tf.Variable(tf.zeros([hidden_layer_size]))\n",
    "    W2 = tf.Variable(\n",
    "        tf.truncated_normal([hidden_layer_size, num_labels]))\n",
    "    b2 = tf.Variable(tf.zeros([num_labels]))\n",
    "\n",
    "    # Training computation.\n",
    "    a1 = tf.nn.relu(tf.matmul(tf_train_dataset, W1) + b1)\n",
    "    logits = tf.matmul(tf.nn.dropout(a1, dropout), W2) + b2\n",
    "    \n",
    "    loss = tf.reduce_mean(\n",
    "        tf.nn.softmax_cross_entropy_with_logits(labels=tf_train_labels, logits=logits))\n",
    "    loss += tf_lambda * (tf.nn.l2_loss(W1) + tf.nn.l2_loss(W2))\n",
    "\n",
    "    # Optimizer.\n",
    "    optimizer = tf.train.GradientDescentOptimizer(0.5).minimize(loss)\n",
    "\n",
    "    # Predictions for the training, validation, and test data.\n",
    "    mini_train_prediction = tf.nn.softmax(tf.matmul(tf.nn.relu(tf.matmul(tf_train_dataset, W1) + b1) * dropout, W2) + b2)\n",
    "    train_prediction = tf.nn.softmax(tf.matmul(tf.nn.relu(tf.matmul(tf_full_train_dataset, W1) + b1) * dropout, W2) + b2)\n",
    "    valid_prediction = tf.nn.softmax(tf.matmul(tf.nn.relu(tf.matmul(tf_valid_dataset, W1) + b1), W2) * dropout + b2)\n",
    "    test_prediction = tf.nn.softmax(tf.matmul(tf.nn.relu(tf.matmul(tf_test_dataset, W1) + b1), W2) * dropout + b2)"
   ]
  },
  {
   "cell_type": "code",
   "execution_count": 95,
   "metadata": {},
   "outputs": [
    {
     "name": "stdout",
     "output_type": "stream",
     "text": [
      "Training neural network with 2000 training sample\n",
      "Test accuracy: 88.8%\n",
      "Training neural network with 10000 training sample\n",
      "Test accuracy: 90.7%\n",
      "Training neural network with 20000 training sample\n",
      "Test accuracy: 92.0%\n",
      "Training neural network with 100000 training sample\n",
      "Test accuracy: 92.6%\n",
      "Training neural network with 200000 training sample\n",
      "Test accuracy: 92.5%\n"
     ]
    },
    {
     "data": {
      "text/plain": [
       "<matplotlib.text.Text at 0x26102062d68>"
      ]
     },
     "execution_count": 95,
     "metadata": {},
     "output_type": "execute_result"
    },
    {
     "data": {
      "image/png": "[encoded data removed]",
      "text/plain": [
       "<matplotlib.figure.Figure at 0x26101f3b400>"
      ]
     },
     "metadata": {},
     "output_type": "display_data"
    }
   ],
   "source": [
    "lambda_t = 0.001\n",
    "num_batches = [1, 5, 10, 50, 100]\n",
    "\n",
    "error_trains = np.zeros(len(num_batches))\n",
    "error_vals = np.zeros(len(num_batches))\n",
    "\n",
    "num_steps = 3001\n",
    "\n",
    "for j, num_batch in enumerate(num_batches):\n",
    "    \n",
    "    #Randomly select training set\n",
    "    print(\"Training neural network with %d training sample\" % (num_batch * batch_size))\n",
    "    sel = np.floor(np.random.rand(num_batch * batch_size) * len(train_dataset)).astype(int)\n",
    "\n",
    "    train_dataset_sel = train_dataset[sel, :]\n",
    "    train_labels_sel = train_labels[sel, :]\n",
    "\n",
    "    with tf.Session(graph=graph_dropout) as session:\n",
    "        tf.global_variables_initializer().run()\n",
    "        #print(\"Initialized\")\n",
    "        for step in range(num_steps):\n",
    "            # Pick an offset within the training data, which has been randomized.\n",
    "            # Note: we could use better randomization across epochs.\n",
    "            if(train_dataset_sel.shape[0] - batch_size != 0):\n",
    "                offset = (step * batch_size) % (train_dataset_sel.shape[0] - batch_size)\n",
    "            else:\n",
    "                offset = 0\n",
    "            # Generate a minibatch.\n",
    "            batch_data = train_dataset_sel[offset:(offset + batch_size), :]\n",
    "            batch_labels = train_labels_sel[offset:(offset + batch_size), :]\n",
    "            # Prepare a dictionary telling the session where to feed the minibatch.\n",
    "            # The key of the dictionary is the placeholder node of the graph to be fed,\n",
    "            # and the value is the numpy array to feed to it.\n",
    "            feed_dict = {tf_train_dataset : batch_data, tf_train_labels : batch_labels, tf_lambda : lambda_t}\n",
    "            _, l, predictions = session.run([optimizer, loss, mini_train_prediction], feed_dict=feed_dict)\n",
    "            #if (step % 500 == 0):\n",
    "            #    print(\"Minibatch loss at step %d: %f\" % (step, l))\n",
    "            #    print(\"Minibatch accuracy: %.1f%%\" % accuracy(predictions, batch_labels))\n",
    "            #    print(\"Validation accuracy: %.1f%%\" % accuracy(\n",
    "            #        valid_prediction.eval(), valid_labels))\n",
    "        print(\"Test accuracy: %.1f%%\" % accuracy(test_prediction.eval(), test_labels))\n",
    "        #print(\"Train accuracy: %.1f%%\" % accuracy(train_prediction.eval({tf_full_train_dataset: train_dataset_sel}), train_labels_sel))\n",
    "        #print(\"Cross validation accuracy: %.1f%%\" % accuracy(valid_prediction.eval(), valid_labels))\n",
    "        error_trains[j] = 100-accuracy(train_prediction.eval({tf_full_train_dataset: train_dataset_sel}), train_labels_sel)\n",
    "        error_vals[j] = 100-accuracy(valid_prediction.eval(), valid_labels)\n",
    "\n",
    "plt.figure()\n",
    "plt.plot(num_batches, error_trains, 'rx-', label='Train', )\n",
    "plt.plot(num_batches, error_vals, 'bx-', label='Cross Validation')\n",
    "plt.legend()\n",
    "plt.title('Polynomial Regression (lambda = %f)' % lambda_t) \n",
    "plt.xlabel('Number of training batches')\n",
    "plt.ylabel('Error')"
   ]
  },
  {
   "cell_type": "markdown",
   "metadata": {
    "colab_type": "text",
    "id": "-b1hTz3VWZjw"
   },
   "source": [
    "---\n",
    "Problem 4\n",
    "---------\n",
    "\n",
    "Try to get the best performance you can using a multi-layer model! The best reported test accuracy using a deep network is [97.1%](http://yaroslavvb.blogspot.com/2011/09/notmnist-dataset.html?showComment=1391023266211#c8758720086795711595).\n",
    "\n",
    "One avenue you can explore is to add multiple layers.\n",
    "\n",
    "Another one is to use learning rate decay:\n",
    "\n",
    "    global_step = tf.Variable(0)  # count the number of steps taken.\n",
    "    learning_rate = tf.train.exponential_decay(0.5, global_step, ...)\n",
    "    optimizer = tf.train.GradientDescentOptimizer(learning_rate).minimize(loss, global_step=global_step)\n",
    " \n",
    " ---\n"
   ]
  },
  {
   "cell_type": "code",
   "execution_count": 252,
   "metadata": {},
   "outputs": [],
   "source": [
    "# create a network of 4 layers, 1024-300-50 hidden neurons respectively\n",
    "\n",
    "hidden_layer_size_1 =1024\n",
    "hidden_layer_size_2 =300\n",
    "hidden_layer_size_3 =50\n",
    "batch_size = 2000\n",
    "dropout = 0.5\n",
    "lambda_t = 0.0001\n",
    "\n",
    "graph_final = tf.Graph()\n",
    "with graph_final.as_default():\n",
    "\n",
    "    # Input data. For the training data, we use a placeholder that will be fed\n",
    "    # at run time with a training minibatch.\n",
    "    tf_train_dataset = tf.placeholder(tf.float32,\n",
    "                                    shape=(batch_size, image_size * image_size))\n",
    "    tf_train_labels = tf.placeholder(tf.float32, shape=(batch_size, num_labels))\n",
    "    tf_full_train_dataset = tf.placeholder(tf.float32, shape=(None, image_size * image_size))\n",
    "    tf_valid_dataset = tf.constant(valid_dataset)\n",
    "    tf_test_dataset = tf.constant(test_dataset)\n",
    "    tf_lambda = tf.placeholder(tf.float32)\n",
    "\n",
    "    # Variables.\n",
    "    W1 = tf.Variable(\n",
    "        tf.truncated_normal([image_size * image_size, hidden_layer_size_1], stddev=0.1))\n",
    "    b1 = tf.Variable(tf.zeros([hidden_layer_size_1]))\n",
    "    W2 = tf.Variable(\n",
    "        tf.truncated_normal([hidden_layer_size_1, hidden_layer_size_2], stddev=0.1))\n",
    "    b2 = tf.Variable(tf.zeros([hidden_layer_size_2]))\n",
    "    W3 = tf.Variable(\n",
    "        tf.truncated_normal([hidden_layer_size_2, hidden_layer_size_3], stddev=0.1))\n",
    "    b3 = tf.Variable(tf.zeros([hidden_layer_size_3]))\n",
    "    W4 = tf.Variable(\n",
    "        tf.truncated_normal([hidden_layer_size_3, num_labels], stddev=0.1))\n",
    "    b4 = tf.Variable(tf.zeros([num_labels]))\n",
    "\n",
    "    # Training computation.\n",
    "    a1 = tf.nn.relu(tf.matmul(tf_train_dataset, W1) + b1)\n",
    "    a2 = tf.nn.relu(tf.matmul(tf.nn.dropout(a1, dropout), W2) + b2)\n",
    "    a3 = tf.nn.relu(tf.matmul(tf.nn.dropout(a2, dropout), W3) + b3)\n",
    "    logits = tf.matmul(tf.nn.dropout(a3, dropout), W4) + b4\n",
    "    \n",
    "    loss = tf.reduce_mean(\n",
    "        tf.nn.softmax_cross_entropy_with_logits(labels=tf_train_labels, logits=logits))\n",
    "    loss += tf_lambda * (tf.nn.l2_loss(W1) + tf.nn.l2_loss(W2) + tf.nn.l2_loss(W3) + tf.nn.l2_loss(W4))\n",
    "\n",
    "    # Optimizer.\n",
    "    global_step = tf.Variable(0, trainable=False)\n",
    "    learning_rate = tf.train.exponential_decay(0.5, global_step, 80000, 0.9)\n",
    "    gradOptimizer = tf.train.GradientDescentOptimizer(learning_rate=learning_rate)\n",
    "    gvs = gradOptimizer.compute_gradients(loss)\n",
    "    capped_gvs = [(tf.clip_by_value(grad, -10., 10.), var) for grad, var in gvs]\n",
    "    optimizer = gradOptimizer.apply_gradients(capped_gvs, global_step=global_step)\n",
    "\n",
    "    # Predictions for the training, validation, and test data.\n",
    "    mini_train_prediction = tf.nn.softmax(logits)\n",
    "    \n",
    "    train_a1 = tf.nn.relu(tf.matmul(tf_full_train_dataset, W1) + b1)\n",
    "    train_a2 = tf.nn.relu(tf.matmul(train_a1, W2) + b2)\n",
    "    train_a3 = tf.nn.relu(tf.matmul(train_a2, W3) + b3)\n",
    "    train_prediction = tf.nn.softmax(tf.matmul(train_a3, W4) + b4)\n",
    "    \n",
    "    valid_a1 = tf.nn.relu(tf.matmul(tf_valid_dataset, W1) + b1)\n",
    "    valid_a2 = tf.nn.relu(tf.matmul(valid_a1, W2) + b2)\n",
    "    valid_a3 = tf.nn.relu(tf.matmul(valid_a2, W3) + b3)\n",
    "    valid_prediction = tf.nn.softmax(tf.matmul(valid_a3, W4) + b4)\n",
    "    \n",
    "    test_a1 = tf.nn.relu(tf.matmul(tf_test_dataset, W1) + b1)\n",
    "    test_a2 = tf.nn.relu(tf.matmul(test_a1, W2) + b2)\n",
    "    test_a3 = tf.nn.relu(tf.matmul(test_a2, W3) + b3)\n",
    "    test_prediction = tf.nn.softmax(tf.matmul(test_a3, W4) + b4)"
   ]
  },
  {
   "cell_type": "code",
   "execution_count": 254,
   "metadata": {},
   "outputs": [
    {
     "data": {
      "text/plain": [
       "<matplotlib.text.Text at 0x2610e87f7f0>"
      ]
     },
     "execution_count": 254,
     "metadata": {},
     "output_type": "execute_result"
    },
    {
     "data": {
      "image/png": "[encoded data removed]",
      "text/plain": [
       "<matplotlib.figure.Figure at 0x263b614c710>"
      ]
     },
     "metadata": {},
     "output_type": "display_data"
    }
   ],
   "source": [
    "lambdas = [0, 0.0001, 0.0003, 0.001, 0.003, 0.01, 0.03]\n",
    "num_steps = 3001\n",
    "\n",
    "error_trains = np.zeros(len(lambdas))\n",
    "error_vals = np.zeros(len(lambdas))\n",
    "\n",
    "for i, lambda_t in enumerate(lambdas) :\n",
    "\n",
    "    with tf.Session(graph=graph_final) as session:\n",
    "        tf.global_variables_initializer().run()\n",
    "        #print(\"Initialized\")\n",
    "        for step in range(num_steps):\n",
    "            # Pick an offset within the training data, which has been randomized.\n",
    "            # Note: we could use better randomization across epochs.\n",
    "            offset = (step * batch_size) % (train_dataset.shape[0] - batch_size)\n",
    "                \n",
    "            # Generate a minibatch.\n",
    "            batch_data = train_dataset[offset:(offset + batch_size), :]\n",
    "            batch_labels = train_labels[offset:(offset + batch_size), :]\n",
    "            # Prepare a dictionary telling the session where to feed the minibatch.\n",
    "            # The key of the dictionary is the placeholder node of the graph to be fed,\n",
    "            # and the value is the numpy array to feed to it.\n",
    "            feed_dict = {tf_train_dataset : batch_data, tf_train_labels : batch_labels, tf_lambda : lambda_t}\n",
    "            _, l, predictions = session.run([optimizer, loss, mini_train_prediction], feed_dict=feed_dict)\n",
    "            #if (step % 500 == 0):\n",
    "            #    print(\"Minibatch loss at step %d: %f\" % (step, l))\n",
    "            #    print(\"Minibatch accuracy: %.1f%%\" % accuracy(predictions, batch_labels))\n",
    "            #    print(\"Validation accuracy: %.1f%%\" % accuracy(\n",
    "            #        valid_prediction.eval(), valid_labels))\n",
    "        #print(\"Test accuracy: %.1f%%\" % accuracy(test_prediction.eval(), test_labels))\n",
    "        error_trains[i] = 100-accuracy(train_prediction.eval({tf_full_train_dataset: train_dataset_sel}), train_labels_sel)\n",
    "        error_vals[i] = 100-accuracy(valid_prediction.eval(), valid_labels)\n",
    "    \n",
    "plt.figure()\n",
    "plt.plot(lambdas, error_trains, 'rx-', label='Train', )\n",
    "plt.plot(lambdas, error_vals, 'bx-', label='Cross Validation')\n",
    "plt.legend()\n",
    "plt.title('Validation curve') \n",
    "plt.xlabel('Lambda')\n",
    "plt.ylabel('Error')"
   ]
  },
  {
   "cell_type": "code",
   "execution_count": 255,
   "metadata": {},
   "outputs": [
    {
     "name": "stdout",
     "output_type": "stream",
     "text": [
      "Minibatch loss at step 0: 14.845741\n",
      "Minibatch accuracy: 10.7%\n",
      "Validation accuracy: 11.9%\n",
      "Minibatch loss at step 2000: 1.150446\n",
      "Minibatch accuracy: 85.5%\n",
      "Validation accuracy: 88.1%\n",
      "Minibatch loss at step 4000: 0.601956\n",
      "Minibatch accuracy: 87.5%\n",
      "Validation accuracy: 89.6%\n",
      "Minibatch loss at step 6000: 0.533449\n",
      "Minibatch accuracy: 89.0%\n",
      "Validation accuracy: 90.1%\n",
      "Minibatch loss at step 8000: 0.484396\n",
      "Minibatch accuracy: 89.8%\n",
      "Validation accuracy: 90.0%\n",
      "Minibatch loss at step 10000: 0.476706\n",
      "Minibatch accuracy: 90.3%\n",
      "Validation accuracy: 90.4%\n",
      "Test accuracy: 95.9%\n"
     ]
    }
   ],
   "source": [
    "num_steps = 10001\n",
    "lambda_t = 0.001\n",
    "\n",
    "with tf.Session(graph=graph_final) as session:\n",
    "    tf.global_variables_initializer().run()\n",
    "    #print(\"Initialized\")\n",
    "    for step in range(num_steps):\n",
    "        # Pick an offset within the training data, which has been randomized.\n",
    "        # Note: we could use better randomization across epochs.\n",
    "        offset = (step * batch_size) % (train_dataset.shape[0] - batch_size)\n",
    "\n",
    "        # Generate a minibatch.\n",
    "        batch_data = train_dataset[offset:(offset + batch_size), :]\n",
    "        batch_labels = train_labels[offset:(offset + batch_size), :]\n",
    "        # Prepare a dictionary telling the session where to feed the minibatch.\n",
    "        # The key of the dictionary is the placeholder node of the graph to be fed,\n",
    "        # and the value is the numpy array to feed to it.\n",
    "        feed_dict = {tf_train_dataset : batch_data, tf_train_labels : batch_labels, tf_lambda : lambda_t}\n",
    "        _, l, predictions = session.run([optimizer, loss, mini_train_prediction], feed_dict=feed_dict)\n",
    "        if (step % 2000 == 0):* \n",
    "            valid_predictions = valid_prediction.eval()\n",
    "            print(\"Minibatch loss at step %d: %f\" % (step, l))\n",
    "            print(\"Minibatch accuracy: %.1f%%\" % accuracy(predictions, batch_labels))\n",
    "            print(\"Validation accuracy: %.1f%%\" % accuracy(valid_predictions , valid_labels))\n",
    "    print(\"Test accuracy: %.1f%%\" % accuracy(test_prediction.eval(), test_labels))"
   ]
  },
  {
   "cell_type": "markdown",
   "metadata": {},
   "source": [
    "### Implementation notes:\n",
    "\n",
    "* use stddev=0.1, allow you to use higher learning rate. tf.Variable(tf.truncated_normal([hidden_layer_size_2, hidden_layer_size_3], stddev=0.1))\n",
    "\n",
    "* I haven't try to use decay function in learning rate. I set the decay step to 80,000, which more or less a constant if the nn is trained using 10,000 step.\n",
    "\n",
    "* I cramp the gradient between 10 to -10. but the effect is unclear."
   ]
  },
  {
   "cell_type": "code",
   "execution_count": null,
   "metadata": {
    "collapsed": true
   },
   "outputs": [],
   "source": []
  }
 ],
 "metadata": {
  "colab": {
   "default_view": {},
   "name": "3_regularization.ipynb",
   "provenance": [],
   "version": "0.3.2",
   "views": {}
  },
  "kernelspec": {
   "display_name": "Python 3",
   "language": "python",
   "name": "python3"
  },
  "language_info": {
   "codemirror_mode": {
    "name": "ipython",
    "version": 3
   },
   "file_extension": ".py",
   "mimetype": "text/x-python",
   "name": "python",
   "nbconvert_exporter": "python",
   "pygments_lexer": "ipython3",
   "version": "3.5.3"
  }
 },
 "nbformat": 4,
 "nbformat_minor": 1
}
